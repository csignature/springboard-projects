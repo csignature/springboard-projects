{
 "cells": [
  {
   "cell_type": "code",
   "execution_count": 1,
   "metadata": {
    "collapsed": true
   },
   "outputs": [],
   "source": [
    "#Import libraries\n",
    "import pandas as pd\n",
    "import json\n",
    "import numpy as np\n",
    "from pandas.io.json import json_normalize\n",
    "import glob"
   ]
  },
  {
   "cell_type": "code",
   "execution_count": 6,
   "metadata": {},
   "outputs": [
    {
     "name": "stdout",
     "output_type": "stream",
     "text": [
      "(1380, 1)\n",
      "                                                   dataset_data\n",
      "collapse                                                   None\n",
      "column_index                                               None\n",
      "column_names                                      [Date, Value]\n",
      "data          [[2017-05-31, 26.39], [2017-04-30, 25.61], [20...\n",
      "end_date                                             2017-05-31\n",
      "frequency                                               monthly\n",
      "limit                                                      None\n",
      "order                                                      None\n",
      "start_date                                           2010-10-31\n",
      "transform                                                  None\n"
     ]
    }
   ],
   "source": [
    "#Load PRRAH json files from globbing\n",
    "json_prrah=glob.glob('PRRAH/PRRAH_*.json')\n",
    "\n",
    "#Initialize list to append DataFrames to\n",
    "prrah_list=[]\n",
    "\n",
    "#For loop to go through filenames\n",
    "for filename in json_prrah:\n",
    "    data = pd.read_json(filename)\n",
    "    prrah_list.append(data)\n",
    "    \n",
    "#Concatenate files into DataFrame\n",
    "prrah = pd.concat(prrah_list)\n",
    "\n",
    "#Print shape\n",
    "print(prrah.shape)\n",
    "\n",
    "#Code for incorporate filenames to get zipcode column --still needs to be modified \n",
    "#list_of_dfs = [pd.read_csv(filename) for filename in filenames]\n",
    "#for dataframe, filename in zip(list_of_dfs, filenames)\n",
    "#  dataframe['filename'] = filename\n",
    "\n",
    "jsonprrah_001 = pd.read_json('PRRAH/PRRAH_10001.json')\n",
    "print(jsonprrah_001)"
   ]
  },
  {
   "cell_type": "code",
   "execution_count": 3,
   "metadata": {},
   "outputs": [
    {
     "name": "stdout",
     "output_type": "stream",
     "text": [
      "(44317, 96)\n"
     ]
    },
    {
     "name": "stderr",
     "output_type": "stream",
     "text": [
      "/Users/Administrator/anaconda3/lib/python3.6/site-packages/IPython/core/interactiveshell.py:2698: DtypeWarning: Columns (43,88) have mixed types. Specify dtype option on import or set low_memory=False.\n",
      "  interactivity=interactivity, compiler=compiler, result=result)\n"
     ]
    }
   ],
   "source": [
    "#Load Airbnb listings data\n",
    "listings = pd.read_csv('Airbnb_data/listings.csv',dtype={\"id\": int, \"listing_url\": str, \"scrape_id\": int, })\n",
    "#Column names to specify: id,listing_url,scrape_id,last_scraped,name,summary,space,description,experiences_offered,neighborhood_overview,notes,transit,access,interaction,house_rules,thumbnail_url,medium_url,picture_url,xl_picture_url,host_id,host_url,host_name,host_since,host_location,host_about,host_response_time,host_response_rate,host_acceptance_rate,host_is_superhost,host_thumbnail_url,host_picture_url,host_neighbourhood,host_listings_count,host_total_listings_count,host_verifications,host_has_profile_pic,host_identity_verified,street,neighbourhood,neighbourhood_cleansed,neighbourhood_group_cleansed,city,state,zipcode,market,smart_location,country_code,country,latitude,longitude,is_location_exact,property_type,room_type,accommodates,bathrooms,bedrooms,beds,bed_type,amenities,square_feet,price,weekly_price,monthly_price,security_deposit,cleaning_fee,guests_included,extra_people,minimum_nights,maximum_nights,calendar_updated,has_availability,availability_30,availability_60,availability_90,availability_365,calendar_last_scraped,number_of_reviews,first_review,last_review,review_scores_rating,review_scores_accuracy,review_scores_cleanliness,review_scores_checkin,review_scores_communication,review_scores_location,review_scores_value,requires_license,license,jurisdiction_names,instant_bookable,is_business_travel_ready,cancellation_policy,require_guest_profile_picture,require_guest_phone_verification,calculated_host_listings_count,reviews_per_month\n",
    "\n",
    "print(listings.shape)"
   ]
  },
  {
   "cell_type": "code",
   "execution_count": null,
   "metadata": {
    "collapsed": true
   },
   "outputs": [],
   "source": []
  }
 ],
 "metadata": {
  "kernelspec": {
   "display_name": "Python 3",
   "language": "python",
   "name": "python3"
  },
  "language_info": {
   "codemirror_mode": {
    "name": "ipython",
    "version": 3
   },
   "file_extension": ".py",
   "mimetype": "text/x-python",
   "name": "python",
   "nbconvert_exporter": "python",
   "pygments_lexer": "ipython3",
   "version": "3.6.3"
  }
 },
 "nbformat": 4,
 "nbformat_minor": 2
}
