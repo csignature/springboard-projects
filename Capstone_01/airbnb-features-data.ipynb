{
 "cells": [
  {
   "cell_type": "code",
   "execution_count": 1,
   "metadata": {
    "collapsed": true
   },
   "outputs": [],
   "source": [
    "%matplotlib inline\n",
    "\n",
    "import pandas as pd\n",
    "import json\n",
    "import numpy as np\n",
    "from pandas.io.json import json_normalize\n",
    "import glob\n",
    "import matplotlib.pyplot as plt\n",
    "import seaborn as sns\n",
    "import matplotlib as mpl"
   ]
  },
  {
   "cell_type": "code",
   "execution_count": 2,
   "metadata": {},
   "outputs": [
    {
     "name": "stderr",
     "output_type": "stream",
     "text": [
      "/Users/Administrator/anaconda3/lib/python3.6/site-packages/numpy/lib/arraysetops.py:463: FutureWarning: elementwise comparison failed; returning scalar instead, but in the future will perform elementwise comparison\n",
      "  mask |= (ar1 == a)\n"
     ]
    }
   ],
   "source": [
    "#Read in CSV data files\n",
    "\n",
    "airbnb = pd.read_csv('zip_clean.csv',index_col=0)\n",
    "bydz_availcount = pd.read_csv('bydz_availcount.csv',header=None)\n",
    "bydz_availcount.columns=['date_zip','avail_count']\n",
    "bydzrt_roomcount = pd.read_csv('bydzrt_roomcount.csv',header=None)\n",
    "bydzrt_roomcount.columns=['date_zip','room_type','date','bydzrt_count']\n",
    "prr_df = pd.read_csv('prr_df.csv',index_col=0)\n",
    "mlp_df = pd.read_csv('mlp_df.csv',index_col=0)\n",
    "air_zillow = pd.read_csv('airzillow_df.csv', index_col=0)\n",
    "airbnb15 = pd.read_csv('airbnb15.csv',index_col=0)\n",
    "airbnb16 = pd.read_csv('airbnb16.csv',index_col=0)\n",
    "airbnb17 = pd.read_csv('airbnb17.csv',index_col=0)\n",
    "airbnb17_count = pd.read_csv('airbnb17_count.csv',index_col=0)\n",
    "airbnb17_countavg = pd.read_csv('airbnb17_countavg.csv',index_col=0)\n",
    "topzip17 = pd.read_csv('topzip17.csv',index_col=0)\n",
    "norm17 = pd.read_csv('norm17.csv',index_col=0)"
   ]
  },
  {
   "cell_type": "code",
   "execution_count": 3,
   "metadata": {},
   "outputs": [
    {
     "data": {
      "text/html": [
       "<div>\n",
       "<style>\n",
       "    .dataframe thead tr:only-child th {\n",
       "        text-align: right;\n",
       "    }\n",
       "\n",
       "    .dataframe thead th {\n",
       "        text-align: left;\n",
       "    }\n",
       "\n",
       "    .dataframe tbody tr th {\n",
       "        vertical-align: top;\n",
       "    }\n",
       "</style>\n",
       "<table border=\"1\" class=\"dataframe\">\n",
       "  <thead>\n",
       "    <tr style=\"text-align: right;\">\n",
       "      <th></th>\n",
       "      <th>accommodates</th>\n",
       "      <th>availability_30</th>\n",
       "      <th>date</th>\n",
       "      <th>date_zip</th>\n",
       "      <th>id</th>\n",
       "      <th>month</th>\n",
       "      <th>price</th>\n",
       "      <th>property_type</th>\n",
       "      <th>room_type</th>\n",
       "      <th>year</th>\n",
       "      <th>zipcode</th>\n",
       "    </tr>\n",
       "  </thead>\n",
       "  <tbody>\n",
       "    <tr>\n",
       "      <th>0</th>\n",
       "      <td>2.0</td>\n",
       "      <td>21.0</td>\n",
       "      <td>2015-01-01</td>\n",
       "      <td>201501_10022</td>\n",
       "      <td>1069266</td>\n",
       "      <td>1</td>\n",
       "      <td>160.0</td>\n",
       "      <td>Apartment</td>\n",
       "      <td>Entire home/apt</td>\n",
       "      <td>2015</td>\n",
       "      <td>10022</td>\n",
       "    </tr>\n",
       "    <tr>\n",
       "      <th>2</th>\n",
       "      <td>2.0</td>\n",
       "      <td>4.0</td>\n",
       "      <td>2015-01-01</td>\n",
       "      <td>201501_11221</td>\n",
       "      <td>2061725</td>\n",
       "      <td>1</td>\n",
       "      <td>58.0</td>\n",
       "      <td>Apartment</td>\n",
       "      <td>Private room</td>\n",
       "      <td>2015</td>\n",
       "      <td>11221</td>\n",
       "    </tr>\n",
       "    <tr>\n",
       "      <th>3</th>\n",
       "      <td>2.0</td>\n",
       "      <td>1.0</td>\n",
       "      <td>2015-01-01</td>\n",
       "      <td>201501_10011</td>\n",
       "      <td>44974</td>\n",
       "      <td>1</td>\n",
       "      <td>185.0</td>\n",
       "      <td>Apartment</td>\n",
       "      <td>Entire home/apt</td>\n",
       "      <td>2015</td>\n",
       "      <td>10011</td>\n",
       "    </tr>\n",
       "    <tr>\n",
       "      <th>4</th>\n",
       "      <td>2.0</td>\n",
       "      <td>30.0</td>\n",
       "      <td>2015-01-01</td>\n",
       "      <td>201501_10011</td>\n",
       "      <td>4701675</td>\n",
       "      <td>1</td>\n",
       "      <td>195.0</td>\n",
       "      <td>Apartment</td>\n",
       "      <td>Entire home/apt</td>\n",
       "      <td>2015</td>\n",
       "      <td>10011</td>\n",
       "    </tr>\n",
       "    <tr>\n",
       "      <th>5</th>\n",
       "      <td>6.0</td>\n",
       "      <td>11.0</td>\n",
       "      <td>2015-01-01</td>\n",
       "      <td>201501_11231</td>\n",
       "      <td>68914</td>\n",
       "      <td>1</td>\n",
       "      <td>165.0</td>\n",
       "      <td>Apartment</td>\n",
       "      <td>Entire home/apt</td>\n",
       "      <td>2015</td>\n",
       "      <td>11231</td>\n",
       "    </tr>\n",
       "  </tbody>\n",
       "</table>\n",
       "</div>"
      ],
      "text/plain": [
       "   accommodates  availability_30        date      date_zip       id  month  \\\n",
       "0           2.0             21.0  2015-01-01  201501_10022  1069266      1   \n",
       "2           2.0              4.0  2015-01-01  201501_11221  2061725      1   \n",
       "3           2.0              1.0  2015-01-01  201501_10011    44974      1   \n",
       "4           2.0             30.0  2015-01-01  201501_10011  4701675      1   \n",
       "5           6.0             11.0  2015-01-01  201501_11231    68914      1   \n",
       "\n",
       "   price property_type        room_type  year  zipcode  \n",
       "0  160.0     Apartment  Entire home/apt  2015    10022  \n",
       "2   58.0     Apartment     Private room  2015    11221  \n",
       "3  185.0     Apartment  Entire home/apt  2015    10011  \n",
       "4  195.0     Apartment  Entire home/apt  2015    10011  \n",
       "5  165.0     Apartment  Entire home/apt  2015    11231  "
      ]
     },
     "execution_count": 3,
     "metadata": {},
     "output_type": "execute_result"
    }
   ],
   "source": [
    "airbnb.head()"
   ]
  },
  {
   "cell_type": "code",
   "execution_count": null,
   "metadata": {
    "collapsed": true
   },
   "outputs": [],
   "source": []
  }
 ],
 "metadata": {
  "kernelspec": {
   "display_name": "Python 3",
   "language": "python",
   "name": "python3"
  },
  "language_info": {
   "codemirror_mode": {
    "name": "ipython",
    "version": 3
   },
   "file_extension": ".py",
   "mimetype": "text/x-python",
   "name": "python",
   "nbconvert_exporter": "python",
   "pygments_lexer": "ipython3",
   "version": "3.6.3"
  }
 },
 "nbformat": 4,
 "nbformat_minor": 2
}
